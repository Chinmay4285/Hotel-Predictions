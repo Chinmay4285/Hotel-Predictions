{
 "cells": [
  {
   "cell_type": "markdown",
   "metadata": {
    "colab_type": "text",
    "id": "x_BkOtqBIKQz"
   },
   "source": [
    "# Data Science Challenge"
   ]
  },
  {
   "cell_type": "code",
   "execution_count": 9,
   "metadata": {
    "colab": {},
    "colab_type": "code",
    "id": "U_VthdACIKQ6"
   },
   "outputs": [],
   "source": [
    "# To install packages that are not installed by default, uncomment the last two lines \n",
    "# of this cell and replace <package list> with a list of necessary packages.\n",
    "# This will ensure the notebook has all the dependencies and works everywhere.\n",
    "\n",
    "#import sys\n",
    "#!{sys.executable} -m pip install <package list>"
   ]
  },
  {
   "cell_type": "code",
   "execution_count": 174,
   "metadata": {
    "colab": {},
    "colab_type": "code",
    "id": "VzGFUCCVIKRL"
   },
   "outputs": [],
   "source": [
    "#Libraries\n",
    "import pandas as pd\n",
    "import seaborn as sns\n",
    "import matplotlib.pyplot as plt\n",
    "import plotly.express as px\n",
    "from catboost import CatBoostClassifier\n",
    "from sklearn.ensemble import ExtraTreesClassifier\n",
    "from lightgbm import LGBMClassifier\n",
    "from sklearn.ensemble import VotingClassifier\n",
    "from sklearn.metrics import accuracy_score, confusion_matrix, classification_report\n",
    "from sklearn.linear_model import LogisticRegression\n",
    "from sklearn.neighbors import KNeighborsClassifier\n",
    "from sklearn.svm import SVC\n",
    "from sklearn.tree import DecisionTreeClassifier\n",
    "from sklearn.ensemble import RandomForestClassifier\n",
    "from sklearn.ensemble import RandomForestClassifier\n",
    "from sklearn.ensemble import AdaBoostClassifier\n",
    "from sklearn.ensemble import GradientBoostingClassifier\n",
    "from xgboost import XGBClassifier\n",
    "from statistics import mean\n",
    "from sklearn.model_selection import KFold\n",
    "from sklearn.model_selection import cross_val_score\n",
    "import warnings\n",
    "warnings.filterwarnings('ignore')\n",
    "pd.set_option(\"display.max_columns\", 101)"
   ]
  },
  {
   "cell_type": "markdown",
   "metadata": {
    "colab_type": "text",
    "id": "TZ23KNY8IKRT"
   },
   "source": [
    "## Data Description"
   ]
  },
  {
   "cell_type": "markdown",
   "metadata": {
    "colab_type": "text",
    "id": "jWSkqquEIKRW"
   },
   "source": [
    "Column | Description\n",
    ":---|:---\n",
    "`id` | The unique ID assigned to every hotel.\n",
    "`region` | The region in which the hotel is located..\n",
    "`latitude` | The latitude of the hotel.\n",
    "`longitude` | The longitude of the hotel.\n",
    "`accommodation_type` | The type of accommodation offered by the hotel. For example: Private room, Entire house/apt, etc.\n",
    "`cost` | The cost of booking the hotel for one night. (in \\$\\$)\n",
    "`minimum_nights` | The minimum number of nights stay required.\n",
    "`number_of_reviews` | The number of reviews accumulated by the hotel.\n",
    "`reviews_per_month` | The average number of reviews received by the hotel per month.\n",
    "`owner_id` | The unique ID assigned to every owner. An owner can own multiple hotels.\n",
    "`owned_hotels` | The number of hotels owned by the owner.\n",
    "`yearly_availability` | It indicates if the hotel accepts bookings around the year. Values are 0 (not available for 365 days in a year) and 1 (available for 365 days in a year)."
   ]
  },
  {
   "cell_type": "markdown",
   "metadata": {
    "colab_type": "text",
    "id": "BWQqx7cSIKRX"
   },
   "source": [
    "## Data Wrangling & Visualization"
   ]
  },
  {
   "cell_type": "code",
   "execution_count": 129,
   "metadata": {
    "colab": {},
    "colab_type": "code",
    "id": "SsjL7tf7IKRc"
   },
   "outputs": [],
   "source": [
    "# Dataset is already loaded below\n",
    "Hotel_data = pd.read_csv(\"train.csv\")"
   ]
  },
  {
   "cell_type": "code",
   "execution_count": 130,
   "metadata": {
    "colab": {},
    "colab_type": "code",
    "id": "kzuHtZEkIKRh",
    "outputId": "9d14832c-2eda-48eb-df41-548113a94a73"
   },
   "outputs": [
    {
     "data": {
      "text/html": [
       "<div>\n",
       "<style scoped>\n",
       "    .dataframe tbody tr th:only-of-type {\n",
       "        vertical-align: middle;\n",
       "    }\n",
       "\n",
       "    .dataframe tbody tr th {\n",
       "        vertical-align: top;\n",
       "    }\n",
       "\n",
       "    .dataframe thead th {\n",
       "        text-align: right;\n",
       "    }\n",
       "</style>\n",
       "<table border=\"1\" class=\"dataframe\">\n",
       "  <thead>\n",
       "    <tr style=\"text-align: right;\">\n",
       "      <th></th>\n",
       "      <th>id</th>\n",
       "      <th>region</th>\n",
       "      <th>latitude</th>\n",
       "      <th>longitude</th>\n",
       "      <th>accommodation_type</th>\n",
       "      <th>cost</th>\n",
       "      <th>minimum_nights</th>\n",
       "      <th>number_of_reviews</th>\n",
       "      <th>reviews_per_month</th>\n",
       "      <th>owner_id</th>\n",
       "      <th>owned_hotels</th>\n",
       "      <th>yearly_availability</th>\n",
       "    </tr>\n",
       "  </thead>\n",
       "  <tbody>\n",
       "    <tr>\n",
       "      <th>0</th>\n",
       "      <td>13232</td>\n",
       "      <td>Manhattan</td>\n",
       "      <td>40.71854</td>\n",
       "      <td>-74.00439</td>\n",
       "      <td>Entire home/apt</td>\n",
       "      <td>170</td>\n",
       "      <td>5</td>\n",
       "      <td>7</td>\n",
       "      <td>0.56</td>\n",
       "      <td>929983</td>\n",
       "      <td>1</td>\n",
       "      <td>0</td>\n",
       "    </tr>\n",
       "    <tr>\n",
       "      <th>1</th>\n",
       "      <td>246</td>\n",
       "      <td>Brooklyn</td>\n",
       "      <td>40.64446</td>\n",
       "      <td>-73.95030</td>\n",
       "      <td>Entire home/apt</td>\n",
       "      <td>65</td>\n",
       "      <td>3</td>\n",
       "      <td>238</td>\n",
       "      <td>2.30</td>\n",
       "      <td>281764</td>\n",
       "      <td>1</td>\n",
       "      <td>0</td>\n",
       "    </tr>\n",
       "    <tr>\n",
       "      <th>2</th>\n",
       "      <td>19091</td>\n",
       "      <td>Queens</td>\n",
       "      <td>40.78573</td>\n",
       "      <td>-73.81062</td>\n",
       "      <td>Private room</td>\n",
       "      <td>85</td>\n",
       "      <td>1</td>\n",
       "      <td>0</td>\n",
       "      <td>NaN</td>\n",
       "      <td>19923341</td>\n",
       "      <td>1</td>\n",
       "      <td>1</td>\n",
       "    </tr>\n",
       "    <tr>\n",
       "      <th>3</th>\n",
       "      <td>34305</td>\n",
       "      <td>Manhattan</td>\n",
       "      <td>40.73863</td>\n",
       "      <td>-73.98002</td>\n",
       "      <td>Private room</td>\n",
       "      <td>210</td>\n",
       "      <td>30</td>\n",
       "      <td>0</td>\n",
       "      <td>NaN</td>\n",
       "      <td>200380610</td>\n",
       "      <td>65</td>\n",
       "      <td>1</td>\n",
       "    </tr>\n",
       "    <tr>\n",
       "      <th>4</th>\n",
       "      <td>444</td>\n",
       "      <td>Manhattan</td>\n",
       "      <td>40.82426</td>\n",
       "      <td>-73.94630</td>\n",
       "      <td>Shared room</td>\n",
       "      <td>75</td>\n",
       "      <td>3</td>\n",
       "      <td>38</td>\n",
       "      <td>0.42</td>\n",
       "      <td>745069</td>\n",
       "      <td>3</td>\n",
       "      <td>1</td>\n",
       "    </tr>\n",
       "  </tbody>\n",
       "</table>\n",
       "</div>"
      ],
      "text/plain": [
       "      id     region  latitude  longitude accommodation_type  cost  \\\n",
       "0  13232  Manhattan  40.71854  -74.00439    Entire home/apt   170   \n",
       "1    246   Brooklyn  40.64446  -73.95030    Entire home/apt    65   \n",
       "2  19091     Queens  40.78573  -73.81062       Private room    85   \n",
       "3  34305  Manhattan  40.73863  -73.98002       Private room   210   \n",
       "4    444  Manhattan  40.82426  -73.94630        Shared room    75   \n",
       "\n",
       "   minimum_nights  number_of_reviews  reviews_per_month   owner_id  \\\n",
       "0               5                  7               0.56     929983   \n",
       "1               3                238               2.30     281764   \n",
       "2               1                  0                NaN   19923341   \n",
       "3              30                  0                NaN  200380610   \n",
       "4               3                 38               0.42     745069   \n",
       "\n",
       "   owned_hotels  yearly_availability  \n",
       "0             1                    0  \n",
       "1             1                    0  \n",
       "2             1                    1  \n",
       "3            65                    1  \n",
       "4             3                    1  "
      ]
     },
     "execution_count": 130,
     "metadata": {},
     "output_type": "execute_result"
    }
   ],
   "source": [
    "Hotel_data.head()"
   ]
  },
  {
   "cell_type": "code",
   "execution_count": 131,
   "metadata": {
    "colab": {},
    "colab_type": "code",
    "id": "0mhMZRlBIKRu",
    "outputId": "0a669059-5528-4ec0-d64b-8231f6aadf45"
   },
   "outputs": [
    {
     "data": {
      "text/plain": [
       "Index(['id', 'region', 'latitude', 'longitude', 'accommodation_type', 'cost',\n",
       "       'minimum_nights', 'number_of_reviews', 'reviews_per_month', 'owner_id',\n",
       "       'owned_hotels', 'yearly_availability'],\n",
       "      dtype='object')"
      ]
     },
     "execution_count": 131,
     "metadata": {},
     "output_type": "execute_result"
    }
   ],
   "source": [
    "#Explore columns\n",
    "Hotel_data.columns"
   ]
  },
  {
   "cell_type": "code",
   "execution_count": 132,
   "metadata": {},
   "outputs": [
    {
     "data": {
      "text/plain": [
       "id                       int64\n",
       "region                  object\n",
       "latitude               float64\n",
       "longitude              float64\n",
       "accommodation_type      object\n",
       "cost                     int64\n",
       "minimum_nights           int64\n",
       "number_of_reviews        int64\n",
       "reviews_per_month      float64\n",
       "owner_id                 int64\n",
       "owned_hotels             int64\n",
       "yearly_availability      int64\n",
       "dtype: object"
      ]
     },
     "execution_count": 132,
     "metadata": {},
     "output_type": "execute_result"
    }
   ],
   "source": [
    "Hotel_data.dtypes"
   ]
  },
  {
   "cell_type": "code",
   "execution_count": 133,
   "metadata": {
    "colab": {},
    "colab_type": "code",
    "id": "-SrTmyfJIKR1",
    "outputId": "12b270ca-8c3f-402b-d6c1-286c17e63fdd"
   },
   "outputs": [
    {
     "data": {
      "text/html": [
       "<div>\n",
       "<style scoped>\n",
       "    .dataframe tbody tr th:only-of-type {\n",
       "        vertical-align: middle;\n",
       "    }\n",
       "\n",
       "    .dataframe tbody tr th {\n",
       "        vertical-align: top;\n",
       "    }\n",
       "\n",
       "    .dataframe thead th {\n",
       "        text-align: right;\n",
       "    }\n",
       "</style>\n",
       "<table border=\"1\" class=\"dataframe\">\n",
       "  <thead>\n",
       "    <tr style=\"text-align: right;\">\n",
       "      <th></th>\n",
       "      <th>id</th>\n",
       "      <th>latitude</th>\n",
       "      <th>longitude</th>\n",
       "      <th>cost</th>\n",
       "      <th>minimum_nights</th>\n",
       "      <th>number_of_reviews</th>\n",
       "      <th>reviews_per_month</th>\n",
       "      <th>owner_id</th>\n",
       "      <th>owned_hotels</th>\n",
       "      <th>yearly_availability</th>\n",
       "    </tr>\n",
       "  </thead>\n",
       "  <tbody>\n",
       "    <tr>\n",
       "      <th>count</th>\n",
       "      <td>2870.000000</td>\n",
       "      <td>2870.000000</td>\n",
       "      <td>2870.000000</td>\n",
       "      <td>2870.000000</td>\n",
       "      <td>2870.000000</td>\n",
       "      <td>2870.000000</td>\n",
       "      <td>2194.000000</td>\n",
       "      <td>2.870000e+03</td>\n",
       "      <td>2870.000000</td>\n",
       "      <td>2870.000000</td>\n",
       "    </tr>\n",
       "    <tr>\n",
       "      <th>mean</th>\n",
       "      <td>26760.657143</td>\n",
       "      <td>40.731224</td>\n",
       "      <td>-73.950158</td>\n",
       "      <td>195.943206</td>\n",
       "      <td>11.530314</td>\n",
       "      <td>16.315331</td>\n",
       "      <td>1.157502</td>\n",
       "      <td>7.202195e+07</td>\n",
       "      <td>8.411498</td>\n",
       "      <td>0.498606</td>\n",
       "    </tr>\n",
       "    <tr>\n",
       "      <th>std</th>\n",
       "      <td>14140.930062</td>\n",
       "      <td>0.054942</td>\n",
       "      <td>0.049745</td>\n",
       "      <td>406.184714</td>\n",
       "      <td>37.972339</td>\n",
       "      <td>32.481722</td>\n",
       "      <td>1.355028</td>\n",
       "      <td>8.076516e+07</td>\n",
       "      <td>27.105522</td>\n",
       "      <td>0.500085</td>\n",
       "    </tr>\n",
       "    <tr>\n",
       "      <th>min</th>\n",
       "      <td>0.000000</td>\n",
       "      <td>40.507080</td>\n",
       "      <td>-74.242850</td>\n",
       "      <td>10.000000</td>\n",
       "      <td>1.000000</td>\n",
       "      <td>0.000000</td>\n",
       "      <td>0.010000</td>\n",
       "      <td>2.787000e+03</td>\n",
       "      <td>1.000000</td>\n",
       "      <td>0.000000</td>\n",
       "    </tr>\n",
       "    <tr>\n",
       "      <th>25%</th>\n",
       "      <td>15931.750000</td>\n",
       "      <td>40.692462</td>\n",
       "      <td>-73.984003</td>\n",
       "      <td>75.000000</td>\n",
       "      <td>1.000000</td>\n",
       "      <td>1.000000</td>\n",
       "      <td>0.240000</td>\n",
       "      <td>7.388002e+06</td>\n",
       "      <td>1.000000</td>\n",
       "      <td>0.000000</td>\n",
       "    </tr>\n",
       "    <tr>\n",
       "      <th>50%</th>\n",
       "      <td>28946.500000</td>\n",
       "      <td>40.728250</td>\n",
       "      <td>-73.956720</td>\n",
       "      <td>120.000000</td>\n",
       "      <td>3.000000</td>\n",
       "      <td>4.000000</td>\n",
       "      <td>0.650000</td>\n",
       "      <td>3.352708e+07</td>\n",
       "      <td>1.000000</td>\n",
       "      <td>0.000000</td>\n",
       "    </tr>\n",
       "    <tr>\n",
       "      <th>75%</th>\n",
       "      <td>38478.500000</td>\n",
       "      <td>40.762658</td>\n",
       "      <td>-73.934202</td>\n",
       "      <td>200.000000</td>\n",
       "      <td>6.000000</td>\n",
       "      <td>16.000000</td>\n",
       "      <td>1.530000</td>\n",
       "      <td>1.207625e+08</td>\n",
       "      <td>3.000000</td>\n",
       "      <td>1.000000</td>\n",
       "    </tr>\n",
       "    <tr>\n",
       "      <th>max</th>\n",
       "      <td>48893.000000</td>\n",
       "      <td>40.898730</td>\n",
       "      <td>-73.721730</td>\n",
       "      <td>9999.000000</td>\n",
       "      <td>999.000000</td>\n",
       "      <td>395.000000</td>\n",
       "      <td>10.370000</td>\n",
       "      <td>2.738123e+08</td>\n",
       "      <td>327.000000</td>\n",
       "      <td>1.000000</td>\n",
       "    </tr>\n",
       "  </tbody>\n",
       "</table>\n",
       "</div>"
      ],
      "text/plain": [
       "                 id     latitude    longitude         cost  minimum_nights  \\\n",
       "count   2870.000000  2870.000000  2870.000000  2870.000000     2870.000000   \n",
       "mean   26760.657143    40.731224   -73.950158   195.943206       11.530314   \n",
       "std    14140.930062     0.054942     0.049745   406.184714       37.972339   \n",
       "min        0.000000    40.507080   -74.242850    10.000000        1.000000   \n",
       "25%    15931.750000    40.692462   -73.984003    75.000000        1.000000   \n",
       "50%    28946.500000    40.728250   -73.956720   120.000000        3.000000   \n",
       "75%    38478.500000    40.762658   -73.934202   200.000000        6.000000   \n",
       "max    48893.000000    40.898730   -73.721730  9999.000000      999.000000   \n",
       "\n",
       "       number_of_reviews  reviews_per_month      owner_id  owned_hotels  \\\n",
       "count        2870.000000        2194.000000  2.870000e+03   2870.000000   \n",
       "mean           16.315331           1.157502  7.202195e+07      8.411498   \n",
       "std            32.481722           1.355028  8.076516e+07     27.105522   \n",
       "min             0.000000           0.010000  2.787000e+03      1.000000   \n",
       "25%             1.000000           0.240000  7.388002e+06      1.000000   \n",
       "50%             4.000000           0.650000  3.352708e+07      1.000000   \n",
       "75%            16.000000           1.530000  1.207625e+08      3.000000   \n",
       "max           395.000000          10.370000  2.738123e+08    327.000000   \n",
       "\n",
       "       yearly_availability  \n",
       "count          2870.000000  \n",
       "mean              0.498606  \n",
       "std               0.500085  \n",
       "min               0.000000  \n",
       "25%               0.000000  \n",
       "50%               0.000000  \n",
       "75%               1.000000  \n",
       "max               1.000000  "
      ]
     },
     "execution_count": 133,
     "metadata": {},
     "output_type": "execute_result"
    }
   ],
   "source": [
    "#Description\n",
    "Hotel_data.describe()"
   ]
  },
  {
   "cell_type": "code",
   "execution_count": 134,
   "metadata": {
    "colab": {},
    "colab_type": "code",
    "id": "Vel-7S7gIKR9"
   },
   "outputs": [
    {
     "data": {
      "text/plain": [
       "id                       0\n",
       "region                   0\n",
       "latitude                 0\n",
       "longitude                0\n",
       "accommodation_type       0\n",
       "cost                     0\n",
       "minimum_nights           0\n",
       "number_of_reviews        0\n",
       "reviews_per_month      676\n",
       "owner_id                 0\n",
       "owned_hotels             0\n",
       "yearly_availability      0\n",
       "dtype: int64"
      ]
     },
     "execution_count": 134,
     "metadata": {},
     "output_type": "execute_result"
    }
   ],
   "source": [
    "Hotel_data.isnull().sum(axis=0)"
   ]
  },
  {
   "cell_type": "markdown",
   "metadata": {},
   "source": [
    "There are 676 null values in the columns reviews_per_month,around 25% of the values are empty. I will use suitable method to replace null values depending on correlation"
   ]
  },
  {
   "cell_type": "code",
   "execution_count": 135,
   "metadata": {},
   "outputs": [
    {
     "data": {
      "text/plain": [
       "<matplotlib.axes._subplots.AxesSubplot at 0x7f0bbd158710>"
      ]
     },
     "execution_count": 135,
     "metadata": {},
     "output_type": "execute_result"
    },
    {
     "data": {
      "image/png": "[encoded data removed]",
      "text/plain": [
       "<Figure size 432x288 with 1 Axes>"
      ]
     },
     "metadata": {
      "needs_background": "light"
     },
     "output_type": "display_data"
    }
   ],
   "source": [
    "#Visualizing values of reviews_per_month\n",
    "Hotel_data['reviews_per_month'].value_counts()[:2].plot(kind=\"bar\")"
   ]
  },
  {
   "cell_type": "code",
   "execution_count": 136,
   "metadata": {
    "colab": {},
    "colab_type": "code",
    "id": "fp1nvdh-IKSE"
   },
   "outputs": [
    {
     "data": {
      "text/plain": [
       "420"
      ]
     },
     "execution_count": 136,
     "metadata": {},
     "output_type": "execute_result"
    }
   ],
   "source": [
    "len(Hotel_data['reviews_per_month'].unique())"
   ]
  },
  {
   "cell_type": "markdown",
   "metadata": {},
   "source": [
    "From Analysis of the reviews_per_month feature, we can clearly see that there are 420 unique values and mean reviews_per_month ia at 1.15 and std at 1.35. As the data look skewed I am replacing missing values with median value."
   ]
  },
  {
   "cell_type": "code",
   "execution_count": 137,
   "metadata": {},
   "outputs": [],
   "source": [
    "#Replacing null values with the median\n",
    "Hotel_data['reviews_per_month']=Hotel_data['reviews_per_month'].fillna(Hotel_data['reviews_per_month'].median())"
   ]
  },
  {
   "cell_type": "code",
   "execution_count": 138,
   "metadata": {},
   "outputs": [
    {
     "data": {
      "text/plain": [
       "0"
      ]
     },
     "execution_count": 138,
     "metadata": {},
     "output_type": "execute_result"
    }
   ],
   "source": [
    "#Rechecking for null values\n",
    "Hotel_data['reviews_per_month'].isnull().sum(axis=0)"
   ]
  },
  {
   "cell_type": "code",
   "execution_count": 139,
   "metadata": {
    "colab": {},
    "colab_type": "code",
    "id": "px5KNTQ7IKSK"
   },
   "outputs": [
    {
     "data": {
      "text/plain": [
       "<matplotlib.axes._subplots.AxesSubplot at 0x7f0b45086810>"
      ]
     },
     "execution_count": 139,
     "metadata": {},
     "output_type": "execute_result"
    },
    {
     "data": {
      "image/png": "[encoded data removed]",
      "text/plain": [
       "<Figure size 432x288 with 1 Axes>"
      ]
     },
     "metadata": {
      "needs_background": "light"
     },
     "output_type": "display_data"
    }
   ],
   "source": [
    "#Visualizing the Region column\n",
    "Hotel_data['region'].value_counts().plot()"
   ]
  },
  {
   "cell_type": "markdown",
   "metadata": {},
   "source": [
    "From Analysis of the region feature,we can see that maximum hotels are present in the Manhatten region (1200+) and minimum are present in Bronx and Staten Island"
   ]
  },
  {
   "cell_type": "code",
   "execution_count": 140,
   "metadata": {},
   "outputs": [
    {
     "data": {
      "text/plain": [
       "<matplotlib.axes._subplots.AxesSubplot at 0x7f0bbd015650>"
      ]
     },
     "execution_count": 140,
     "metadata": {},
     "output_type": "execute_result"
    },
    {
     "data": {
      "image/png": "[encoded data removed]",
      "text/plain": [
       "<Figure size 432x288 with 1 Axes>"
      ]
     },
     "metadata": {
      "needs_background": "light"
     },
     "output_type": "display_data"
    }
   ],
   "source": [
    "#Visualizing values of minimum_nights\n",
    "sns.distplot(Hotel_data.minimum_nights)"
   ]
  },
  {
   "cell_type": "code",
   "execution_count": 141,
   "metadata": {},
   "outputs": [
    {
     "data": {
      "text/plain": [
       "1     721\n",
       "2     657\n",
       "3     439\n",
       "30    391\n",
       "4     180\n",
       "Name: minimum_nights, dtype: int64"
      ]
     },
     "execution_count": 141,
     "metadata": {},
     "output_type": "execute_result"
    }
   ],
   "source": [
    "\n",
    "Hotel_data['minimum_nights'].value_counts()[:5]"
   ]
  },
  {
   "cell_type": "markdown",
   "metadata": {},
   "source": [
    "From the graph above we can visualize that, Around 1380 hotels require 2 days of minimum stay and 1997 hotels require  4 days  of miminimum stay. The mean number of nights in 11.5."
   ]
  },
  {
   "cell_type": "code",
   "execution_count": 142,
   "metadata": {
    "colab": {},
    "colab_type": "code",
    "id": "W9B6xKGpIKSQ"
   },
   "outputs": [
    {
     "data": {
      "text/plain": [
       "<matplotlib.axes._subplots.AxesSubplot at 0x7f0bbcf28b90>"
      ]
     },
     "execution_count": 142,
     "metadata": {},
     "output_type": "execute_result"
    },
    {
     "data": {
      "image/png": "[encoded data removed]",
      "text/plain": [
       "<Figure size 432x288 with 1 Axes>"
      ]
     },
     "metadata": {
      "needs_background": "light"
     },
     "output_type": "display_data"
    }
   ],
   "source": [
    "#Visualizing values of accommodation_type\n",
    "Hotel_data['accommodation_type'].value_counts().plot(kind=\"bar\")"
   ]
  },
  {
   "cell_type": "markdown",
   "metadata": {},
   "source": [
    "From the graph above we can visualize that, Around 1200 hotels offerred private room while 1000 hotels offerred facility of owning entire apartment or home."
   ]
  },
  {
   "cell_type": "code",
   "execution_count": 143,
   "metadata": {},
   "outputs": [
    {
     "data": {
      "text/plain": [
       "<matplotlib.axes._subplots.AxesSubplot at 0x7f0bbce90710>"
      ]
     },
     "execution_count": 143,
     "metadata": {},
     "output_type": "execute_result"
    },
    {
     "data": {
      "image/png": "[encoded data removed]",
      "text/plain": [
       "<Figure size 432x288 with 1 Axes>"
      ]
     },
     "metadata": {
      "needs_background": "light"
     },
     "output_type": "display_data"
    }
   ],
   "source": [
    "#Visualizing values of number_of_reviews\n",
    "sns.distplot(Hotel_data.number_of_reviews)"
   ]
  },
  {
   "cell_type": "code",
   "execution_count": 144,
   "metadata": {},
   "outputs": [
    {
     "data": {
      "text/plain": [
       "0    676\n",
       "1    300\n",
       "2    208\n",
       "3    146\n",
       "4    120\n",
       "Name: number_of_reviews, dtype: int64"
      ]
     },
     "execution_count": 144,
     "metadata": {},
     "output_type": "execute_result"
    }
   ],
   "source": [
    "Hotel_data['number_of_reviews'].value_counts()[:5]"
   ]
  },
  {
   "cell_type": "markdown",
   "metadata": {},
   "source": [
    "From the graph above we can visualize that, Around 1400+ hotels have less than 4 number of reviews. The mean number_of_reviews in 16.32."
   ]
  },
  {
   "cell_type": "code",
   "execution_count": null,
   "metadata": {},
   "outputs": [],
   "source": []
  },
  {
   "cell_type": "markdown",
   "metadata": {},
   "source": [
    "## Feature Engineering"
   ]
  },
  {
   "cell_type": "code",
   "execution_count": 145,
   "metadata": {},
   "outputs": [],
   "source": [
    "#Dropping the unwanted columns\n",
    "Hotel_data_training = Hotel_data.drop(['latitude','longitude','id','owner_id'], axis = 1)"
   ]
  },
  {
   "cell_type": "code",
   "execution_count": 146,
   "metadata": {},
   "outputs": [
    {
     "data": {
      "text/html": [
       "<div>\n",
       "<style scoped>\n",
       "    .dataframe tbody tr th:only-of-type {\n",
       "        vertical-align: middle;\n",
       "    }\n",
       "\n",
       "    .dataframe tbody tr th {\n",
       "        vertical-align: top;\n",
       "    }\n",
       "\n",
       "    .dataframe thead th {\n",
       "        text-align: right;\n",
       "    }\n",
       "</style>\n",
       "<table border=\"1\" class=\"dataframe\">\n",
       "  <thead>\n",
       "    <tr style=\"text-align: right;\">\n",
       "      <th></th>\n",
       "      <th>cost</th>\n",
       "      <th>minimum_nights</th>\n",
       "      <th>number_of_reviews</th>\n",
       "      <th>reviews_per_month</th>\n",
       "      <th>owned_hotels</th>\n",
       "      <th>yearly_availability</th>\n",
       "      <th>region_Brooklyn</th>\n",
       "      <th>region_Manhattan</th>\n",
       "      <th>region_Queens</th>\n",
       "      <th>region_Staten Island</th>\n",
       "      <th>accommodation_type_Private room</th>\n",
       "      <th>accommodation_type_Shared room</th>\n",
       "    </tr>\n",
       "  </thead>\n",
       "  <tbody>\n",
       "    <tr>\n",
       "      <th>0</th>\n",
       "      <td>170</td>\n",
       "      <td>5</td>\n",
       "      <td>7</td>\n",
       "      <td>0.56</td>\n",
       "      <td>1</td>\n",
       "      <td>0</td>\n",
       "      <td>0</td>\n",
       "      <td>1</td>\n",
       "      <td>0</td>\n",
       "      <td>0</td>\n",
       "      <td>0</td>\n",
       "      <td>0</td>\n",
       "    </tr>\n",
       "    <tr>\n",
       "      <th>1</th>\n",
       "      <td>65</td>\n",
       "      <td>3</td>\n",
       "      <td>238</td>\n",
       "      <td>2.30</td>\n",
       "      <td>1</td>\n",
       "      <td>0</td>\n",
       "      <td>1</td>\n",
       "      <td>0</td>\n",
       "      <td>0</td>\n",
       "      <td>0</td>\n",
       "      <td>0</td>\n",
       "      <td>0</td>\n",
       "    </tr>\n",
       "    <tr>\n",
       "      <th>2</th>\n",
       "      <td>85</td>\n",
       "      <td>1</td>\n",
       "      <td>0</td>\n",
       "      <td>0.65</td>\n",
       "      <td>1</td>\n",
       "      <td>1</td>\n",
       "      <td>0</td>\n",
       "      <td>0</td>\n",
       "      <td>1</td>\n",
       "      <td>0</td>\n",
       "      <td>1</td>\n",
       "      <td>0</td>\n",
       "    </tr>\n",
       "    <tr>\n",
       "      <th>3</th>\n",
       "      <td>210</td>\n",
       "      <td>30</td>\n",
       "      <td>0</td>\n",
       "      <td>0.65</td>\n",
       "      <td>65</td>\n",
       "      <td>1</td>\n",
       "      <td>0</td>\n",
       "      <td>1</td>\n",
       "      <td>0</td>\n",
       "      <td>0</td>\n",
       "      <td>1</td>\n",
       "      <td>0</td>\n",
       "    </tr>\n",
       "    <tr>\n",
       "      <th>4</th>\n",
       "      <td>75</td>\n",
       "      <td>3</td>\n",
       "      <td>38</td>\n",
       "      <td>0.42</td>\n",
       "      <td>3</td>\n",
       "      <td>1</td>\n",
       "      <td>0</td>\n",
       "      <td>1</td>\n",
       "      <td>0</td>\n",
       "      <td>0</td>\n",
       "      <td>0</td>\n",
       "      <td>1</td>\n",
       "    </tr>\n",
       "  </tbody>\n",
       "</table>\n",
       "</div>"
      ],
      "text/plain": [
       "   cost  minimum_nights  number_of_reviews  reviews_per_month  owned_hotels  \\\n",
       "0   170               5                  7               0.56             1   \n",
       "1    65               3                238               2.30             1   \n",
       "2    85               1                  0               0.65             1   \n",
       "3   210              30                  0               0.65            65   \n",
       "4    75               3                 38               0.42             3   \n",
       "\n",
       "   yearly_availability  region_Brooklyn  region_Manhattan  region_Queens  \\\n",
       "0                    0                0                 1              0   \n",
       "1                    0                1                 0              0   \n",
       "2                    1                0                 0              1   \n",
       "3                    1                0                 1              0   \n",
       "4                    1                0                 1              0   \n",
       "\n",
       "   region_Staten Island  accommodation_type_Private room  \\\n",
       "0                     0                                0   \n",
       "1                     0                                0   \n",
       "2                     0                                1   \n",
       "3                     0                                1   \n",
       "4                     0                                0   \n",
       "\n",
       "   accommodation_type_Shared room  \n",
       "0                               0  \n",
       "1                               0  \n",
       "2                               0  \n",
       "3                               0  \n",
       "4                               1  "
      ]
     },
     "execution_count": 146,
     "metadata": {},
     "output_type": "execute_result"
    }
   ],
   "source": [
    "#Converting categorical valus into features with values 0 and 1\n",
    "Hotel_data_training  = pd.get_dummies(Hotel_data_training, drop_first =True)\n",
    "Hotel_data_training.head(5)"
   ]
  },
  {
   "cell_type": "code",
   "execution_count": 147,
   "metadata": {},
   "outputs": [
    {
     "data": {
      "text/html": [
       "<div>\n",
       "<style scoped>\n",
       "    .dataframe tbody tr th:only-of-type {\n",
       "        vertical-align: middle;\n",
       "    }\n",
       "\n",
       "    .dataframe tbody tr th {\n",
       "        vertical-align: top;\n",
       "    }\n",
       "\n",
       "    .dataframe thead th {\n",
       "        text-align: right;\n",
       "    }\n",
       "</style>\n",
       "<table border=\"1\" class=\"dataframe\">\n",
       "  <thead>\n",
       "    <tr style=\"text-align: right;\">\n",
       "      <th></th>\n",
       "      <th>cost</th>\n",
       "      <th>minimum_nights</th>\n",
       "      <th>number_of_reviews</th>\n",
       "      <th>reviews_per_month</th>\n",
       "      <th>owned_hotels</th>\n",
       "      <th>yearly_availability</th>\n",
       "      <th>region_Brooklyn</th>\n",
       "      <th>region_Manhattan</th>\n",
       "      <th>region_Queens</th>\n",
       "      <th>region_Staten Island</th>\n",
       "      <th>accommodation_type_Private room</th>\n",
       "      <th>accommodation_type_Shared room</th>\n",
       "    </tr>\n",
       "  </thead>\n",
       "  <tbody>\n",
       "    <tr>\n",
       "      <th>cost</th>\n",
       "      <td>1.00</td>\n",
       "      <td>0.05</td>\n",
       "      <td>-0.07</td>\n",
       "      <td>-0.10</td>\n",
       "      <td>0.03</td>\n",
       "      <td>0.15</td>\n",
       "      <td>-0.08</td>\n",
       "      <td>0.14</td>\n",
       "      <td>-0.07</td>\n",
       "      <td>0.00</td>\n",
       "      <td>0.13</td>\n",
       "      <td>-0.02</td>\n",
       "    </tr>\n",
       "    <tr>\n",
       "      <th>minimum_nights</th>\n",
       "      <td>0.05</td>\n",
       "      <td>1.00</td>\n",
       "      <td>-0.09</td>\n",
       "      <td>-0.11</td>\n",
       "      <td>0.11</td>\n",
       "      <td>0.17</td>\n",
       "      <td>-0.05</td>\n",
       "      <td>0.07</td>\n",
       "      <td>-0.03</td>\n",
       "      <td>-0.01</td>\n",
       "      <td>0.17</td>\n",
       "      <td>-0.05</td>\n",
       "    </tr>\n",
       "    <tr>\n",
       "      <th>number_of_reviews</th>\n",
       "      <td>-0.07</td>\n",
       "      <td>-0.09</td>\n",
       "      <td>1.00</td>\n",
       "      <td>0.55</td>\n",
       "      <td>-0.11</td>\n",
       "      <td>-0.19</td>\n",
       "      <td>0.05</td>\n",
       "      <td>-0.03</td>\n",
       "      <td>-0.03</td>\n",
       "      <td>-0.03</td>\n",
       "      <td>-0.18</td>\n",
       "      <td>-0.08</td>\n",
       "    </tr>\n",
       "    <tr>\n",
       "      <th>reviews_per_month</th>\n",
       "      <td>-0.10</td>\n",
       "      <td>-0.11</td>\n",
       "      <td>0.55</td>\n",
       "      <td>1.00</td>\n",
       "      <td>-0.10</td>\n",
       "      <td>-0.27</td>\n",
       "      <td>-0.00</td>\n",
       "      <td>-0.02</td>\n",
       "      <td>0.02</td>\n",
       "      <td>0.01</td>\n",
       "      <td>-0.24</td>\n",
       "      <td>-0.02</td>\n",
       "    </tr>\n",
       "    <tr>\n",
       "      <th>owned_hotels</th>\n",
       "      <td>0.03</td>\n",
       "      <td>0.11</td>\n",
       "      <td>-0.11</td>\n",
       "      <td>-0.10</td>\n",
       "      <td>1.00</td>\n",
       "      <td>0.19</td>\n",
       "      <td>-0.16</td>\n",
       "      <td>0.21</td>\n",
       "      <td>-0.06</td>\n",
       "      <td>-0.02</td>\n",
       "      <td>0.14</td>\n",
       "      <td>-0.05</td>\n",
       "    </tr>\n",
       "  </tbody>\n",
       "</table>\n",
       "</div>"
      ],
      "text/plain": [
       "                   cost  minimum_nights  number_of_reviews  reviews_per_month  \\\n",
       "cost               1.00            0.05              -0.07              -0.10   \n",
       "minimum_nights     0.05            1.00              -0.09              -0.11   \n",
       "number_of_reviews -0.07           -0.09               1.00               0.55   \n",
       "reviews_per_month -0.10           -0.11               0.55               1.00   \n",
       "owned_hotels       0.03            0.11              -0.11              -0.10   \n",
       "\n",
       "                   owned_hotels  yearly_availability  region_Brooklyn  \\\n",
       "cost                       0.03                 0.15            -0.08   \n",
       "minimum_nights             0.11                 0.17            -0.05   \n",
       "number_of_reviews         -0.11                -0.19             0.05   \n",
       "reviews_per_month         -0.10                -0.27            -0.00   \n",
       "owned_hotels               1.00                 0.19            -0.16   \n",
       "\n",
       "                   region_Manhattan  region_Queens  region_Staten Island  \\\n",
       "cost                           0.14          -0.07                  0.00   \n",
       "minimum_nights                 0.07          -0.03                 -0.01   \n",
       "number_of_reviews             -0.03          -0.03                 -0.03   \n",
       "reviews_per_month             -0.02           0.02                  0.01   \n",
       "owned_hotels                   0.21          -0.06                 -0.02   \n",
       "\n",
       "                   accommodation_type_Private room  \\\n",
       "cost                                          0.13   \n",
       "minimum_nights                                0.17   \n",
       "number_of_reviews                            -0.18   \n",
       "reviews_per_month                            -0.24   \n",
       "owned_hotels                                  0.14   \n",
       "\n",
       "                   accommodation_type_Shared room  \n",
       "cost                                        -0.02  \n",
       "minimum_nights                              -0.05  \n",
       "number_of_reviews                           -0.08  \n",
       "reviews_per_month                           -0.02  \n",
       "owned_hotels                                -0.05  "
      ]
     },
     "execution_count": 147,
     "metadata": {},
     "output_type": "execute_result"
    }
   ],
   "source": [
    "#Checking for correlation between values\n",
    "Correlation_mat = Hotel_data_training.corr().round(2)\n",
    "Correlation_mat.head()"
   ]
  },
  {
   "cell_type": "code",
   "execution_count": 148,
   "metadata": {},
   "outputs": [
    {
     "data": {
      "image/png": "[encoded data removed]",
      "text/plain": [
       "<Figure size 432x288 with 2 Axes>"
      ]
     },
     "metadata": {
      "needs_background": "light"
     },
     "output_type": "display_data"
    }
   ],
   "source": [
    "#Visualizing the Correlation matrix\n",
    "sns.heatmap(Correlation_mat, annot=True, vmax=1, vmin=-1, center=0, cmap='vlag')\n",
    "plt.show()"
   ]
  },
  {
   "cell_type": "code",
   "execution_count": null,
   "metadata": {},
   "outputs": [],
   "source": []
  },
  {
   "cell_type": "markdown",
   "metadata": {},
   "source": [
    "We can see new columns created for the previous categorical values."
   ]
  },
  {
   "cell_type": "code",
   "execution_count": 149,
   "metadata": {
    "colab": {},
    "colab_type": "code",
    "id": "73vBzp7lIKSf"
   },
   "outputs": [
    {
     "data": {
      "text/plain": [
       "Text(0.5, 1, 'Top 11 Features')"
      ]
     },
     "execution_count": 149,
     "metadata": {},
     "output_type": "execute_result"
    },
    {
     "data": {
      "image/png": "[encoded data removed]",
      "text/plain": [
       "<Figure size 864x432 with 1 Axes>"
      ]
     },
     "metadata": {
      "needs_background": "light"
     },
     "output_type": "display_data"
    }
   ],
   "source": [
    "#Creating a copy of correlation matrix for visualization percpective\n",
    "Correlation_mat_temp=Correlation_mat\n",
    "#Copying columns names for index\n",
    "Correlation_mat_temp['Avali_feature'] = Correlation_mat_temp.index\n",
    "\n",
    "plt.figure(figsize=(12,6))\n",
    "sns.color_palette(\"Paired\")\n",
    "sns.barplot(x='Avali_feature',\n",
    "            y=\"yearly_availability\",  \n",
    "            order=Correlation_mat_temp.sort_values('yearly_availability', ascending = False).Avali_feature,\n",
    "            data=Correlation_mat_temp,\n",
    "           )\n",
    "plt.xlabel(\"Available Features\", size=20)\n",
    "plt.ylabel(\"Yearly Availability and Correlation\", size=20)\n",
    "plt.tight_layout()\n",
    "plt.xticks(rotation=60)\n",
    "plt.title(\"Top 11 Features\", size=18)\n",
    "\n"
   ]
  },
  {
   "cell_type": "markdown",
   "metadata": {
    "colab": {},
    "colab_type": "code",
    "id": "1XiIoLYLIKSj"
   },
   "source": [
    "Interpreting the above correlation matrix we can state that accomodation type private room, owned hotels ad minimum nights have high positive correlation while review_per_month has high\n",
    "negetive correlation"
   ]
  },
  {
   "cell_type": "markdown",
   "metadata": {},
   "source": [
    "## Getting test data ready for modelling"
   ]
  },
  {
   "cell_type": "markdown",
   "metadata": {
    "colab_type": "text",
    "id": "ymsdDaIPIKSX"
   },
   "source": [
    "## Visualization, Modeling, Machine Learning\n",
    "\n",
    "Build a model that categorizes hotels on the basis of their yearly availability.  Identify how different features influence the decision. Please explain the findings effectively to technical and non-technical audiences using comments and visualizations, if appropriate.\n",
    "- **Build an optimized model that effectively solves the business problem.**\n",
    "- **The model will be evaluated on the basis of Accuracy.**\n",
    "- **Read the test.csv file and prepare features for testing.**"
   ]
  },
  {
   "cell_type": "code",
   "execution_count": 150,
   "metadata": {
    "colab": {},
    "colab_type": "code",
    "id": "Hsxh3SMgIKSY",
    "outputId": "d98d0f00-f33f-407b-df59-a9915bb03fa1"
   },
   "outputs": [
    {
     "data": {
      "text/html": [
       "<div>\n",
       "<style scoped>\n",
       "    .dataframe tbody tr th:only-of-type {\n",
       "        vertical-align: middle;\n",
       "    }\n",
       "\n",
       "    .dataframe tbody tr th {\n",
       "        vertical-align: top;\n",
       "    }\n",
       "\n",
       "    .dataframe thead th {\n",
       "        text-align: right;\n",
       "    }\n",
       "</style>\n",
       "<table border=\"1\" class=\"dataframe\">\n",
       "  <thead>\n",
       "    <tr style=\"text-align: right;\">\n",
       "      <th></th>\n",
       "      <th>id</th>\n",
       "      <th>region</th>\n",
       "      <th>latitude</th>\n",
       "      <th>longitude</th>\n",
       "      <th>accommodation_type</th>\n",
       "      <th>cost</th>\n",
       "      <th>minimum_nights</th>\n",
       "      <th>number_of_reviews</th>\n",
       "      <th>reviews_per_month</th>\n",
       "      <th>owner_id</th>\n",
       "      <th>owned_hotels</th>\n",
       "    </tr>\n",
       "  </thead>\n",
       "  <tbody>\n",
       "    <tr>\n",
       "      <th>0</th>\n",
       "      <td>19215</td>\n",
       "      <td>Brooklyn</td>\n",
       "      <td>40.70912</td>\n",
       "      <td>-73.94513</td>\n",
       "      <td>Shared room</td>\n",
       "      <td>135</td>\n",
       "      <td>2</td>\n",
       "      <td>22</td>\n",
       "      <td>0.66</td>\n",
       "      <td>4360212</td>\n",
       "      <td>1</td>\n",
       "    </tr>\n",
       "    <tr>\n",
       "      <th>1</th>\n",
       "      <td>36301</td>\n",
       "      <td>Brooklyn</td>\n",
       "      <td>40.57646</td>\n",
       "      <td>-73.96641</td>\n",
       "      <td>Entire home/apt</td>\n",
       "      <td>69</td>\n",
       "      <td>2</td>\n",
       "      <td>8</td>\n",
       "      <td>0.90</td>\n",
       "      <td>181356989</td>\n",
       "      <td>2</td>\n",
       "    </tr>\n",
       "    <tr>\n",
       "      <th>2</th>\n",
       "      <td>40566</td>\n",
       "      <td>Manhattan</td>\n",
       "      <td>40.76616</td>\n",
       "      <td>-73.98228</td>\n",
       "      <td>Private room</td>\n",
       "      <td>225</td>\n",
       "      <td>30</td>\n",
       "      <td>0</td>\n",
       "      <td>NaN</td>\n",
       "      <td>13773574</td>\n",
       "      <td>12</td>\n",
       "    </tr>\n",
       "    <tr>\n",
       "      <th>3</th>\n",
       "      <td>33694</td>\n",
       "      <td>Manhattan</td>\n",
       "      <td>40.77668</td>\n",
       "      <td>-73.94587</td>\n",
       "      <td>Shared room</td>\n",
       "      <td>125</td>\n",
       "      <td>30</td>\n",
       "      <td>9</td>\n",
       "      <td>0.82</td>\n",
       "      <td>6788748</td>\n",
       "      <td>1</td>\n",
       "    </tr>\n",
       "    <tr>\n",
       "      <th>4</th>\n",
       "      <td>28873</td>\n",
       "      <td>Manhattan</td>\n",
       "      <td>40.80279</td>\n",
       "      <td>-73.94450</td>\n",
       "      <td>Entire home/apt</td>\n",
       "      <td>43</td>\n",
       "      <td>1</td>\n",
       "      <td>13</td>\n",
       "      <td>0.72</td>\n",
       "      <td>105061915</td>\n",
       "      <td>2</td>\n",
       "    </tr>\n",
       "  </tbody>\n",
       "</table>\n",
       "</div>"
      ],
      "text/plain": [
       "      id     region  latitude  longitude accommodation_type  cost  \\\n",
       "0  19215   Brooklyn  40.70912  -73.94513        Shared room   135   \n",
       "1  36301   Brooklyn  40.57646  -73.96641    Entire home/apt    69   \n",
       "2  40566  Manhattan  40.76616  -73.98228       Private room   225   \n",
       "3  33694  Manhattan  40.77668  -73.94587        Shared room   125   \n",
       "4  28873  Manhattan  40.80279  -73.94450    Entire home/apt    43   \n",
       "\n",
       "   minimum_nights  number_of_reviews  reviews_per_month   owner_id  \\\n",
       "0               2                 22               0.66    4360212   \n",
       "1               2                  8               0.90  181356989   \n",
       "2              30                  0                NaN   13773574   \n",
       "3              30                  9               0.82    6788748   \n",
       "4               1                 13               0.72  105061915   \n",
       "\n",
       "   owned_hotels  \n",
       "0             1  \n",
       "1             2  \n",
       "2            12  \n",
       "3             1  \n",
       "4             2  "
      ]
     },
     "execution_count": 150,
     "metadata": {},
     "output_type": "execute_result"
    }
   ],
   "source": [
    "#Loading Test data\n",
    "Hotel_test_data=pd.read_csv('test.csv')\n",
    "Hotel_test_data.head()"
   ]
  },
  {
   "cell_type": "code",
   "execution_count": 151,
   "metadata": {},
   "outputs": [
    {
     "data": {
      "text/plain": [
       "id                      0\n",
       "region                  0\n",
       "latitude                0\n",
       "longitude               0\n",
       "accommodation_type      0\n",
       "cost                    0\n",
       "minimum_nights          0\n",
       "number_of_reviews       0\n",
       "reviews_per_month     173\n",
       "owner_id                0\n",
       "owned_hotels            0\n",
       "dtype: int64"
      ]
     },
     "execution_count": 151,
     "metadata": {},
     "output_type": "execute_result"
    }
   ],
   "source": [
    "Hotel_test_data.isnull().sum(axis=0)"
   ]
  },
  {
   "cell_type": "code",
   "execution_count": 152,
   "metadata": {},
   "outputs": [],
   "source": [
    "Hotel_test_data['reviews_per_month']=Hotel_test_data['reviews_per_month'].fillna(Hotel_test_data['reviews_per_month'].median())"
   ]
  },
  {
   "cell_type": "code",
   "execution_count": 153,
   "metadata": {},
   "outputs": [],
   "source": [
    "#Dropping the unwanted columns\n",
    "Hotel_test_data_fin = Hotel_test_data.drop(['latitude','longitude','id','owner_id'], axis = 1)"
   ]
  },
  {
   "cell_type": "code",
   "execution_count": 154,
   "metadata": {},
   "outputs": [
    {
     "data": {
      "text/html": [
       "<div>\n",
       "<style scoped>\n",
       "    .dataframe tbody tr th:only-of-type {\n",
       "        vertical-align: middle;\n",
       "    }\n",
       "\n",
       "    .dataframe tbody tr th {\n",
       "        vertical-align: top;\n",
       "    }\n",
       "\n",
       "    .dataframe thead th {\n",
       "        text-align: right;\n",
       "    }\n",
       "</style>\n",
       "<table border=\"1\" class=\"dataframe\">\n",
       "  <thead>\n",
       "    <tr style=\"text-align: right;\">\n",
       "      <th></th>\n",
       "      <th>cost</th>\n",
       "      <th>minimum_nights</th>\n",
       "      <th>number_of_reviews</th>\n",
       "      <th>reviews_per_month</th>\n",
       "      <th>owned_hotels</th>\n",
       "      <th>region_Brooklyn</th>\n",
       "      <th>region_Manhattan</th>\n",
       "      <th>region_Queens</th>\n",
       "      <th>region_Staten Island</th>\n",
       "      <th>accommodation_type_Private room</th>\n",
       "      <th>accommodation_type_Shared room</th>\n",
       "    </tr>\n",
       "  </thead>\n",
       "  <tbody>\n",
       "    <tr>\n",
       "      <th>0</th>\n",
       "      <td>135</td>\n",
       "      <td>2</td>\n",
       "      <td>22</td>\n",
       "      <td>0.66</td>\n",
       "      <td>1</td>\n",
       "      <td>1</td>\n",
       "      <td>0</td>\n",
       "      <td>0</td>\n",
       "      <td>0</td>\n",
       "      <td>0</td>\n",
       "      <td>1</td>\n",
       "    </tr>\n",
       "    <tr>\n",
       "      <th>1</th>\n",
       "      <td>69</td>\n",
       "      <td>2</td>\n",
       "      <td>8</td>\n",
       "      <td>0.90</td>\n",
       "      <td>2</td>\n",
       "      <td>1</td>\n",
       "      <td>0</td>\n",
       "      <td>0</td>\n",
       "      <td>0</td>\n",
       "      <td>0</td>\n",
       "      <td>0</td>\n",
       "    </tr>\n",
       "    <tr>\n",
       "      <th>2</th>\n",
       "      <td>225</td>\n",
       "      <td>30</td>\n",
       "      <td>0</td>\n",
       "      <td>0.67</td>\n",
       "      <td>12</td>\n",
       "      <td>0</td>\n",
       "      <td>1</td>\n",
       "      <td>0</td>\n",
       "      <td>0</td>\n",
       "      <td>1</td>\n",
       "      <td>0</td>\n",
       "    </tr>\n",
       "    <tr>\n",
       "      <th>3</th>\n",
       "      <td>125</td>\n",
       "      <td>30</td>\n",
       "      <td>9</td>\n",
       "      <td>0.82</td>\n",
       "      <td>1</td>\n",
       "      <td>0</td>\n",
       "      <td>1</td>\n",
       "      <td>0</td>\n",
       "      <td>0</td>\n",
       "      <td>0</td>\n",
       "      <td>1</td>\n",
       "    </tr>\n",
       "    <tr>\n",
       "      <th>4</th>\n",
       "      <td>43</td>\n",
       "      <td>1</td>\n",
       "      <td>13</td>\n",
       "      <td>0.72</td>\n",
       "      <td>2</td>\n",
       "      <td>0</td>\n",
       "      <td>1</td>\n",
       "      <td>0</td>\n",
       "      <td>0</td>\n",
       "      <td>0</td>\n",
       "      <td>0</td>\n",
       "    </tr>\n",
       "  </tbody>\n",
       "</table>\n",
       "</div>"
      ],
      "text/plain": [
       "   cost  minimum_nights  number_of_reviews  reviews_per_month  owned_hotels  \\\n",
       "0   135               2                 22               0.66             1   \n",
       "1    69               2                  8               0.90             2   \n",
       "2   225              30                  0               0.67            12   \n",
       "3   125              30                  9               0.82             1   \n",
       "4    43               1                 13               0.72             2   \n",
       "\n",
       "   region_Brooklyn  region_Manhattan  region_Queens  region_Staten Island  \\\n",
       "0                1                 0              0                     0   \n",
       "1                1                 0              0                     0   \n",
       "2                0                 1              0                     0   \n",
       "3                0                 1              0                     0   \n",
       "4                0                 1              0                     0   \n",
       "\n",
       "   accommodation_type_Private room  accommodation_type_Shared room  \n",
       "0                                0                               1  \n",
       "1                                0                               0  \n",
       "2                                1                               0  \n",
       "3                                0                               1  \n",
       "4                                0                               0  "
      ]
     },
     "execution_count": 154,
     "metadata": {},
     "output_type": "execute_result"
    }
   ],
   "source": [
    "#Converting categorical valus into features with values 0 and 1\n",
    "Hotel_test_data_fin  = pd.get_dummies(Hotel_test_data_fin, drop_first =True)\n",
    "Hotel_test_data_fin.head(5)"
   ]
  },
  {
   "cell_type": "markdown",
   "metadata": {
    "colab": {},
    "colab_type": "code",
    "id": "7tBCHjd3IKSp"
   },
   "source": [
    "## Building Models"
   ]
  },
  {
   "cell_type": "code",
   "execution_count": 155,
   "metadata": {},
   "outputs": [],
   "source": [
    "from sklearn.model_selection import train_test_split\n",
    "from sklearn.preprocessing import StandardScaler\n",
    "from sklearn.metrics import accuracy_score, confusion_matrix ,classification_report\n",
    "import numpy as np\n",
    "from sklearn.linear_model import LogisticRegression\n",
    "from sklearn.metrics import accuracy_score, confusion_matrix, classification_report\n",
    "from sklearn.linear_model import LogisticRegression\n",
    "from sklearn.neighbors import KNeighborsClassifier\n",
    "from sklearn.svm import SVC\n",
    "from sklearn.tree import DecisionTreeClassifier\n",
    "from sklearn.ensemble import RandomForestClassifier\n",
    "from sklearn.ensemble import RandomForestClassifier\n",
    "from sklearn.ensemble import AdaBoostClassifier\n",
    "from sklearn.ensemble import GradientBoostingClassifier\n",
    "from xgboost import XGBClassifier\n",
    "from catboost import CatBoostClassifier\n",
    "from sklearn.ensemble import ExtraTreesClassifier\n",
    "from sklearn.pipeline import Pipeline"
   ]
  },
  {
   "cell_type": "markdown",
   "metadata": {},
   "source": [
    "## Implimenting cross validation"
   ]
  },
  {
   "cell_type": "code",
   "execution_count": 156,
   "metadata": {},
   "outputs": [],
   "source": [
    "##Getting Cross validation variables ready\n",
    "Hotel_cross_val = KFold(n_splits=10, random_state=1, shuffle=True)"
   ]
  },
  {
   "cell_type": "markdown",
   "metadata": {},
   "source": [
    "## Logistic Regression"
   ]
  },
  {
   "cell_type": "code",
   "execution_count": 157,
   "metadata": {
    "colab": {},
    "colab_type": "code",
    "id": "1Vk1EEy9IKSv"
   },
   "outputs": [],
   "source": [
    "# Using standard code to split data intro train and test and build a pipeline\n",
    "np.random.seed(85)\n",
    "X = Hotel_data_training.drop(['yearly_availability'], axis = 1)\n",
    "y = Hotel_data_training['yearly_availability']\n",
    "X_train, X_test, y_train, y_test = train_test_split(X, y,test_size = 0.15)"
   ]
  },
  {
   "cell_type": "code",
   "execution_count": 179,
   "metadata": {
    "colab": {},
    "colab_type": "code",
    "id": "nkQU41WSIKSz"
   },
   "outputs": [
    {
     "name": "stdout",
     "output_type": "stream",
     "text": [
      "10 fold cross validated average accuracy score with logistic regression classifier is: 84.7040 percentage\n",
      "Model accuracy score with K nearest neighbour classifier is: 86.5429 percentage\n",
      "Classification Report : \n",
      "              precision    recall  f1-score   support\n",
      "\n",
      "           0       0.87      0.87      0.87       223\n",
      "           1       0.86      0.86      0.86       208\n",
      "\n",
      "    accuracy                           0.87       431\n",
      "   macro avg       0.87      0.87      0.87       431\n",
      "weighted avg       0.87      0.87      0.87       431\n",
      "\n",
      "Confusion Matrix : \n",
      "[[194  29]\n",
      " [ 29 179]]\n"
     ]
    }
   ],
   "source": [
    "#Building logistic model as the Base\n",
    "np.random.seed(85)\n",
    "Hotel_Logistic_model = LogisticRegression()\n",
    "#Fitting the model\n",
    "Hotel_Logistic_model.fit(X_train, y_train)\n",
    "\n",
    "#Predicting the values\n",
    "Hotel_logregpred = Hotel_Logistic_model.predict(X_test)\n",
    "\n",
    "#Test accuracy with 10 fold cross validation\n",
    "Hotel_accuracy_Logreg = accuracy_score(y_test, Hotel_logregpred)\n",
    "conf_matrix = confusion_matrix(y_test, Hotel_logregpred)\n",
    "Class_report = classification_report(y_test, Hotel_logregpred)\n",
    "Hotel_accuracy_logreg_Avg = cross_val_score(Hotel_Logistic_model, X_test, y_test, scoring='accuracy', cv=Hotel_cross_val, n_jobs=-1)\n",
    "\n",
    "print('10 fold cross validated average accuracy score with logistic regression classifier is: {0:0.4f} percentage'. format(mean(Hotel_accuracy_logreg_Avg)*100))\n",
    "print('Model accuracy score with K nearest neighbour classifier is: {0:0.4f} percentage'. format(Hotel_accuracy_Logreg*100))\n",
    "\n",
    "print(f\"Classification Report : \\n{Class_report}\")\n",
    "\n",
    "print(f\"Confusion Matrix : \\n{conf_matrix}\")"
   ]
  },
  {
   "cell_type": "markdown",
   "metadata": {},
   "source": [
    "We got 84.70% accuracy as base line accuracy with 10 fold cross validation"
   ]
  },
  {
   "cell_type": "markdown",
   "metadata": {
    "colab_type": "text",
    "id": "MK_rdXETIKS4"
   },
   "source": [
    "\n",
    "\n",
    "**Highlight the most important features of the model for management.**\n",
    "\n",
    "> #### Task:\n",
    "- **Visualize the top 20 features and their feature importance.**\n"
   ]
  },
  {
   "cell_type": "code",
   "execution_count": 160,
   "metadata": {
    "colab": {},
    "colab_type": "code",
    "id": "HHFM3XPMIKS6"
   },
   "outputs": [
    {
     "name": "stdout",
     "output_type": "stream",
     "text": [
      "Feature: 0, Score: 0.00189\n",
      "Feature: 1, Score: 0.01881\n",
      "Feature: 2, Score: 0.00427\n",
      "Feature: 3, Score: -0.20964\n",
      "Feature: 4, Score: 0.01870\n",
      "Feature: 5, Score: -1.32519\n",
      "Feature: 6, Score: -1.81766\n",
      "Feature: 7, Score: -0.60408\n",
      "Feature: 8, Score: 0.27435\n",
      "Feature: 9, Score: 4.59003\n",
      "Feature: 10, Score: 2.22304\n"
     ]
    },
    {
     "data": {
      "image/png": "[encoded data removed]",
      "text/plain": [
       "<Figure size 432x288 with 1 Axes>"
      ]
     },
     "metadata": {
      "needs_background": "light"
     },
     "output_type": "display_data"
    }
   ],
   "source": [
    "# Getting the importance from the model\n",
    "imp_factor = Hotel_Logistic_model.coef_[0]\n",
    "# summarize feature importance\n",
    "for i,v in enumerate(imp_factor):\n",
    "\tprint('Feature: %0d, Score: %.5f' % (i,v))\n",
    "# plot feature importance\n",
    "plt.bar([x for x in range(len(imp_factor))], imp_factor)\n",
    "plt.show()"
   ]
  },
  {
   "cell_type": "markdown",
   "metadata": {},
   "source": [
    "# Important Feature for logistic regression\n",
    "To conclude from the graph accommodation_type_Private room (Feature 9) is important feature and rest are as stated in the graph above."
   ]
  },
  {
   "cell_type": "markdown",
   "metadata": {},
   "source": [
    "## KNN"
   ]
  },
  {
   "cell_type": "code",
   "execution_count": 161,
   "metadata": {},
   "outputs": [
    {
     "name": "stdout",
     "output_type": "stream",
     "text": [
      "Model accuracy score with K nearest neighbour classifier is: 72.6218 percentage\n",
      "Classification Report : \n",
      "              precision    recall  f1-score   support\n",
      "\n",
      "           0       0.69      0.86      0.76       223\n",
      "           1       0.79      0.59      0.67       208\n",
      "\n",
      "    accuracy                           0.73       431\n",
      "   macro avg       0.74      0.72      0.72       431\n",
      "weighted avg       0.74      0.73      0.72       431\n",
      "\n",
      "Confusion Matrix : \n",
      "[[191  32]\n",
      " [ 86 122]]\n"
     ]
    }
   ],
   "source": [
    "#Using KNN for prediction\n",
    "np.random.seed(85)\n",
    "Hotel_knn_model = KNeighborsClassifier(n_neighbors=22)\n",
    "Hotel_knn_model.fit(X_train, y_train)\n",
    "\n",
    "#Predicting the values\n",
    "Hotel_knn_pred = Hotel_knn_model.predict(X_test)\n",
    "\n",
    "Hotel_accuracy_knn = accuracy_score(y_test, Hotel_knn_pred)\n",
    "conf_matrix = confusion_matrix(y_test, Hotel_knn_pred)\n",
    "Class_report = classification_report(y_test, Hotel_knn_pred)\n",
    "\n",
    "print('Model accuracy score with K nearest neighbour classifier is: {0:0.4f} percentage'. format(Hotel_accuracy_knn*100))\n",
    "\n",
    "print(f\"Classification Report : \\n{Class_report}\")\n",
    "\n",
    "print(f\"Confusion Matrix : \\n{conf_matrix}\")"
   ]
  },
  {
   "cell_type": "code",
   "execution_count": 162,
   "metadata": {
    "colab": {},
    "colab_type": "code",
    "id": "7xgNg25MIKTG"
   },
   "outputs": [],
   "source": [
    "#lets see what happens when we variate neighbors for k inrange(1,50):\n",
    "from sklearn.metrics import mean_absolute_error\n",
    "k_val=[]\n",
    "train_accuracy=[]\n",
    "test_accuracy=[]\n",
    "list_training_error = []\n",
    "list_testing_error = []\n",
    "for k in range(1,50):\n",
    "    knn = KNeighborsClassifier(n_neighbors = k)\n",
    "    k_val.append(k)\n",
    "    knn.fit(X_train, y_train)\n",
    "    pred_train= knn.predict(X_train)\n",
    "    train_accuracy.append(accuracy_score(y_train, pred_train))\n",
    "    pred_test = knn.predict(X_test)\n",
    "    test_accuracy.append(accuracy_score(y_test, pred_test))\n",
    "    fold_training_error = mean_absolute_error(y_train, pred_train)\n",
    "    fold_testing_error = mean_absolute_error(y_test, pred_test)\n",
    "list_training_error.append(fold_training_error)"
   ]
  },
  {
   "cell_type": "code",
   "execution_count": 163,
   "metadata": {},
   "outputs": [
    {
     "data": {
      "image/png": "[encoded data removed]",
      "text/plain": [
       "<Figure size 432x288 with 1 Axes>"
      ]
     },
     "metadata": {
      "needs_background": "light"
     },
     "output_type": "display_data"
    }
   ],
   "source": [
    "#Plotting train and test errors\n",
    "np.random.seed(85)\n",
    "import matplotlib.pyplot as plt\n",
    "plt.plot(k_val,train_accuracy,color='red',marker='o')\n",
    "plt.plot(k_val,test_accuracy,color='blue',marker='o')\n",
    "plt.title('Performance as K value changes', fontsize=15)\n",
    "plt.xlabel('K values', fontsize=15)\n",
    "plt.ylabel('Accuracy W.R.T to K values', fontsize=15)\n",
    "plt.grid(True)\n",
    "plt.show()"
   ]
  },
  {
   "cell_type": "markdown",
   "metadata": {},
   "source": [
    "I am choosing k value as  22 as the error rate increases after K=22. Thus in te previous code segment I have taken K value as 20."
   ]
  },
  {
   "cell_type": "markdown",
   "metadata": {},
   "source": [
    "## Decision Tree CLassifier"
   ]
  },
  {
   "cell_type": "code",
   "execution_count": 164,
   "metadata": {},
   "outputs": [
    {
     "name": "stdout",
     "output_type": "stream",
     "text": [
      "10 fold cross validated average accuracy score with Decision Trees classifier is: 87.9228 percentage\n",
      "Classification Report : \n",
      "              precision    recall  f1-score   support\n",
      "\n",
      "           0       0.92      0.88      0.90       223\n",
      "           1       0.88      0.91      0.89       208\n",
      "\n",
      "    accuracy                           0.90       431\n",
      "   macro avg       0.90      0.90      0.90       431\n",
      "weighted avg       0.90      0.90      0.90       431\n",
      "\n",
      "Confusion Matrix : \n",
      "[[196  27]\n",
      " [ 18 190]]\n"
     ]
    }
   ],
   "source": [
    "#Decision Tree Classifier with 10 fold cross validation \n",
    "np.random.seed(85)\n",
    "Hotel_dtc = DecisionTreeClassifier()\n",
    "Hotel_dtc.fit(X_train, y_train)\n",
    "\n",
    "y_pred_Hotel_dtc = Hotel_dtc.predict(X_test)\n",
    "\n",
    "Hotel_accuracy_dtc = accuracy_score(y_test, y_pred_Hotel_dtc)\n",
    "conf_matrix = confusion_matrix(y_test, y_pred_Hotel_dtc)\n",
    "Class_report = classification_report(y_test, y_pred_Hotel_dtc)\n",
    "Hotel_accuracy_DT_Avg = cross_val_score(Hotel_dtc, X_test, y_test, scoring='accuracy', cv=Hotel_cross_val, n_jobs=-1)\n",
    "\n",
    "print('10 fold cross validated average accuracy score with Decision Trees classifier is: {0:0.4f} percentage'. format(mean(Hotel_accuracy_DT_Avg)*100))\n",
    "\n",
    "print(f\"Classification Report : \\n{Class_report}\")\n",
    "\n",
    "print(f\"Confusion Matrix : \\n{conf_matrix}\")"
   ]
  },
  {
   "cell_type": "markdown",
   "metadata": {},
   "source": [
    "We got accuracy of 72% using decision trees."
   ]
  },
  {
   "cell_type": "markdown",
   "metadata": {},
   "source": [
    "## Random Forest CLassifier"
   ]
  },
  {
   "cell_type": "code",
   "execution_count": 165,
   "metadata": {
    "colab": {},
    "colab_type": "code",
    "id": "OaxN7BjwIKTL"
   },
   "outputs": [
    {
     "name": "stdout",
     "output_type": "stream",
     "text": [
      "10 fold cross validated average accuracy score with Random forest classifier is: 89.0856 percentage\n",
      "Classification Report : \n",
      "              precision    recall  f1-score   support\n",
      "\n",
      "           0       0.93      0.90      0.92       223\n",
      "           1       0.90      0.93      0.92       208\n",
      "\n",
      "    accuracy                           0.92       431\n",
      "   macro avg       0.92      0.92      0.92       431\n",
      "weighted avg       0.92      0.92      0.92       431\n",
      "\n",
      "Confusion Matrix : \n",
      "[[201  22]\n",
      " [ 14 194]]\n"
     ]
    }
   ],
   "source": [
    "#Random forest classifier with 10 fold cross validation\n",
    "np.random.seed(85)\n",
    "Hotel_Random_forest_model = RandomForestClassifier()\n",
    "Hotel_Random_forest_model.fit(X_train, y_train)\n",
    "\n",
    "y_pred_hotel_RF = Hotel_Random_forest_model.predict(X_test)\n",
    "\n",
    "Hotel_accuracy_RF = accuracy_score(y_test, y_pred_hotel_RF)\n",
    "conf_matrix = confusion_matrix(y_test, y_pred_hotel_RF)\n",
    "Class_report = classification_report(y_test, y_pred_hotel_RF)\n",
    "Hotel_accuracy_RF_Avg = cross_val_score(Hotel_Random_forest_model, X_test, y_test, scoring='accuracy', cv=Hotel_cross_val, n_jobs=-1)\n",
    "\n",
    "print('10 fold cross validated average accuracy score with Random forest classifier is: {0:0.4f} percentage'. format(mean(Hotel_accuracy_RF_Avg)*100))\n",
    "\n",
    "print(f\"Classification Report : \\n{Class_report}\")\n",
    "\n",
    "print(f\"Confusion Matrix : \\n{conf_matrix}\")"
   ]
  },
  {
   "cell_type": "markdown",
   "metadata": {},
   "source": [
    "We got better accuracy than other models in the Random forest classifier which is 90.2552 percentage."
   ]
  },
  {
   "cell_type": "markdown",
   "metadata": {},
   "source": [
    "## Ada Boost CLassifier"
   ]
  },
  {
   "cell_type": "code",
   "execution_count": 166,
   "metadata": {},
   "outputs": [
    {
     "name": "stdout",
     "output_type": "stream",
     "text": [
      "10 fold cross validated average accuracy score with Ada Boost classifier is: 87.6956 percentage\n",
      "Classification Report : \n",
      "              precision    recall  f1-score   support\n",
      "\n",
      "           0       0.91      0.86      0.88       223\n",
      "           1       0.86      0.91      0.88       208\n",
      "\n",
      "    accuracy                           0.88       431\n",
      "   macro avg       0.88      0.88      0.88       431\n",
      "weighted avg       0.89      0.88      0.88       431\n",
      "\n",
      "Confusion Matrix : \n",
      "[[191  32]\n",
      " [ 18 190]]\n"
     ]
    }
   ],
   "source": [
    "# Ada Boost CLassifier\n",
    "Hotel_ada = AdaBoostClassifier(base_estimator = Hotel_dtc)\n",
    "np.random.seed(85)\n",
    "Hotel_ada.fit(X_train, y_train)\n",
    "\n",
    "y_pred_Hotel_ada = Hotel_ada.predict(X_test)\n",
    "\n",
    "Hotel_accuracy_ada = accuracy_score(y_test, y_pred_Hotel_ada)\n",
    "conf_matrix = confusion_matrix(y_test, y_pred_Hotel_ada)\n",
    "Class_report = classification_report(y_test, y_pred_Hotel_ada)\n",
    "Hotel_accuracy_ADA_Avg = cross_val_score(Hotel_ada, X_test, y_test, scoring='accuracy', cv=Hotel_cross_val, n_jobs=-1)\n",
    "\n",
    "print('10 fold cross validated average accuracy score with Ada Boost classifier is: {0:0.4f} percentage'. format(mean(Hotel_accuracy_ADA_Avg)*100))\n",
    "\n",
    "print(f\"Classification Report : \\n{Class_report}\")\n",
    "\n",
    "print(f\"Confusion Matrix : \\n{conf_matrix}\")"
   ]
  },
  {
   "cell_type": "markdown",
   "metadata": {},
   "source": [
    "## XgBoost Classifier"
   ]
  },
  {
   "cell_type": "code",
   "execution_count": 167,
   "metadata": {},
   "outputs": [
    {
     "name": "stdout",
     "output_type": "stream",
     "text": [
      "[10:44:36] WARNING: ../src/learner.cc:1115: Starting in XGBoost 1.3.0, the default evaluation metric used with the objective 'binary:logistic' was changed from 'error' to 'logloss'. Explicitly set eval_metric if you'd like to restore the old behavior.\n",
      "Model accuracy score with XG Boost classifier is: 91.8794 percentage\n",
      "Classification Report : \n",
      "              precision    recall  f1-score   support\n",
      "\n",
      "           0       0.95      0.89      0.92       223\n",
      "           1       0.89      0.95      0.92       208\n",
      "\n",
      "    accuracy                           0.92       431\n",
      "   macro avg       0.92      0.92      0.92       431\n",
      "weighted avg       0.92      0.92      0.92       431\n",
      "\n",
      "Confusion Matrix : \n",
      "[[199  24]\n",
      " [ 11 197]]\n"
     ]
    }
   ],
   "source": [
    "#The King of classifiers XGBoost is here\n",
    "np.random.seed(85)\n",
    "Hotel_xgb = XGBClassifier(booster = 'gbtree', learning_rate = 0.1, max_depth = 5, n_estimators = 180)\n",
    "Hotel_xgb.fit(X_train, y_train)\n",
    "\n",
    "y_pred_Hotel_xgb = Hotel_xgb.predict(X_test)\n",
    "\n",
    "Hotel_accuracy_xgb = accuracy_score(y_test, y_pred_Hotel_xgb)\n",
    "conf_matrix = confusion_matrix(y_test, y_pred_Hotel_xgb)\n",
    "Class_report = classification_report(y_test, y_pred_Hotel_xgb)\n",
    "\n",
    "print('Model accuracy score with XG Boost classifier is: {0:0.4f} percentage'. format(Hotel_accuracy_xgb*100))\n",
    "\n",
    "print(f\"Classification Report : \\n{Class_report}\")\n",
    "\n",
    "print(f\"Confusion Matrix : \\n{conf_matrix}\")"
   ]
  },
  {
   "cell_type": "markdown",
   "metadata": {},
   "source": [
    "For some reason the Hackerank system did not allow me to impliment the Cross validation for XGBoost, so I am just printing the normal accuracy. Normal Accuracy for the XGBoost CLassifier is 91.87."
   ]
  },
  {
   "cell_type": "markdown",
   "metadata": {},
   "source": [
    "## Cat Boost classifier"
   ]
  },
  {
   "cell_type": "code",
   "execution_count": 168,
   "metadata": {},
   "outputs": [
    {
     "name": "stdout",
     "output_type": "stream",
     "text": [
      " 10 fold cross validated average accuracy score with Cat Boost classifier is: 91.1786 percentage\n",
      "Classification Report : \n",
      "              precision    recall  f1-score   support\n",
      "\n",
      "           0       0.96      0.91      0.94       223\n",
      "           1       0.91      0.96      0.94       208\n",
      "\n",
      "    accuracy                           0.94       431\n",
      "   macro avg       0.94      0.94      0.94       431\n",
      "weighted avg       0.94      0.94      0.94       431\n",
      "\n",
      "Confusion Matrix : \n",
      "[[204  19]\n",
      " [  8 200]]\n"
     ]
    }
   ],
   "source": [
    "#Implimenting Cat Boost classifier with cross validation\n",
    "np.random.seed(85)\n",
    "Hotel_cat = CatBoostClassifier(iterations=200,silent=True)\n",
    "Hotel_cat.fit(X_train, y_train)\n",
    "\n",
    "y_pred_Hotelcat = Hotel_cat.predict(X_test)\n",
    "\n",
    "Hotel_accuracy_cat = accuracy_score(y_test, y_pred_Hotelcat)\n",
    "conf_matrix = confusion_matrix(y_test, y_pred_Hotelcat)\n",
    "Class_report = classification_report(y_test, y_pred_Hotelcat)\n",
    "Hotel_accuracy_cat_Avg = cross_val_score(Hotel_cat, X_test, y_test, scoring='accuracy', cv=Hotel_cross_val, n_jobs=-1)\n",
    "\n",
    "\n",
    "print(' 10 fold cross validated average accuracy score with Cat Boost classifier is: {0:0.4f} percentage'. format(mean(Hotel_accuracy_cat_Avg)*100))\n",
    "\n",
    "print(f\"Classification Report : \\n{Class_report}\")\n",
    "\n",
    "print(f\"Confusion Matrix : \\n{conf_matrix}\")"
   ]
  },
  {
   "cell_type": "markdown",
   "metadata": {},
   "source": [
    "CatBoost classifier is an algorithm for gradient boosting on decision trees. It has given excellent accuracy for our model. The accuracy is 93.03."
   ]
  },
  {
   "cell_type": "markdown",
   "metadata": {},
   "source": [
    "## LGBM CLassfier"
   ]
  },
  {
   "cell_type": "code",
   "execution_count": 170,
   "metadata": {},
   "outputs": [
    {
     "name": "stdout",
     "output_type": "stream",
     "text": [
      " 10 fold cross validated average accuracy score with Cat Boost classifier is: 93.7355 percentage\n",
      "Classification Report : \n",
      "              precision    recall  f1-score   support\n",
      "\n",
      "           0       0.96      0.91      0.94       223\n",
      "           1       0.91      0.96      0.94       208\n",
      "\n",
      "    accuracy                           0.94       431\n",
      "   macro avg       0.94      0.94      0.94       431\n",
      "weighted avg       0.94      0.94      0.94       431\n",
      "\n",
      "Confusion Matrix : \n",
      "[[204  19]\n",
      " [  8 200]]\n"
     ]
    }
   ],
   "source": [
    "#Implimenting LGBM classifier\n",
    "np.random.seed(85)\n",
    "Hotel_lgbm = LGBMClassifier(learning_rate = 1)\n",
    "Hotel_lgbm.fit(X_train, y_train)\n",
    "\n",
    "y_pred_Hotellgbm = Hotel_cat.predict(X_test)\n",
    "\n",
    "Hotel_accuracy_lgbm = accuracy_score(y_test, y_pred_Hotellgbm)\n",
    "conf_matrix = confusion_matrix(y_test, y_pred_Hotellgbm)\n",
    "Class_report = classification_report(y_test, y_pred_Hotellgbm)\n",
    "\n",
    "\n",
    "\n",
    "print(' Accuracy score with Cat Boost classifier is: {0:0.4f} percentage'. format(Hotel_accuracy_lgbm*100))\n",
    "\n",
    "print(f\"Classification Report : \\n{Class_report}\")\n",
    "\n",
    "print(f\"Confusion Matrix : \\n{conf_matrix}\")"
   ]
  },
  {
   "cell_type": "markdown",
   "metadata": {},
   "source": [
    "##  Implimenting Voting Classifier to aggregate the final model\n"
   ]
  },
  {
   "cell_type": "code",
   "execution_count": 176,
   "metadata": {},
   "outputs": [
    {
     "name": "stdout",
     "output_type": "stream",
     "text": [
      "[10:47:24] WARNING: ../src/learner.cc:1115: Starting in XGBoost 1.3.0, the default evaluation metric used with the objective 'binary:logistic' was changed from 'error' to 'logloss'. Explicitly set eval_metric if you'd like to restore the old behavior.\n",
      " Accuracy score with Cat Boost classifier is: 93.7355 percentage\n",
      "Classification Report : \n",
      "              precision    recall  f1-score   support\n",
      "\n",
      "           0       0.96      0.91      0.94       223\n",
      "           1       0.91      0.96      0.94       208\n",
      "\n",
      "    accuracy                           0.94       431\n",
      "   macro avg       0.94      0.94      0.94       431\n",
      "weighted avg       0.94      0.94      0.94       431\n",
      "\n",
      "Confusion Matrix : \n",
      "[[204  19]\n",
      " [  8 200]]\n"
     ]
    }
   ],
   "source": [
    "warnings.filterwarnings('ignore')\n",
    "#Building the Hotel voting Classifier\n",
    "Hotel_classifiers = [ ('Cat Boost Classifier', Hotel_cat), ('XGboost Classifier', Hotel_xgb),  \n",
    "               ('LGBM CLassifier', Hotel_lgbm), ('Decision Tree Classifier', Hotel_dtc),('Random Forest Classifier', Hotel_Random_forest_model), ('Ada Boost Classfier', Hotel_ada), ('Logistic Regression', Hotel_Logistic_model),\n",
    "               ('Knn classifier', Hotel_knn_model)]\n",
    "Hotel_vot_cls = VotingClassifier(estimators = Hotel_classifiers)\n",
    "Hotel_vot_cls.fit(X_train, y_train)\n",
    "\n",
    "y_pred_vot_cls = Hotel_cat.predict(X_test)\n",
    "\n",
    "Hotel_accuracy_vot_lcs = accuracy_score(y_test, y_pred_vot_cls)\n",
    "conf_matrix = confusion_matrix(y_test, y_pred_vot_cls)\n",
    "Class_report = classification_report(y_test, y_pred_vot_cls)\n",
    "\n",
    "\n",
    "\n",
    "\n",
    "print(' Accuracy score with Cat Boost classifier is: {0:0.4f} percentage'. format(Hotel_accuracy_vot_lcs*100))\n",
    "\n",
    "print(f\"Classification Report : \\n{Class_report}\")\n",
    "\n",
    "print(f\"Confusion Matrix : \\n{conf_matrix}\")"
   ]
  },
  {
   "cell_type": "code",
   "execution_count": null,
   "metadata": {},
   "outputs": [],
   "source": [
    "#Building data frame with accuracy to visualize the given evaluation Metric Accuracy\n",
    "Hotel_models = pd.DataFrame({\n",
    "    'Hotel Model' : ['Logisitc Regression CLassifier','Cat Boost Classifier', 'KNN classfier', 'Decision Tree Classifier', 'Random Forest Classifier','Ada Boost Classifier',\n",
    "             'XgBoost',  'LGBM Classifier', 'Voting Classifier'],\n",
    "    'Model Score' : [Hotel_accuracy_logreg_Avg,Hotel_accuracy_cat, Hotel_accuracy_knn, Hotel_accuracy_dtc, Hotel_accuracy_RF_Avg, Hotel_accuracy_ADA_Avg, Hotel_accuracy_xgb, Hotel_accuracy_lgbm,  Hotel_accuracy_vot_lcs]\n",
    "})\n",
    "\n",
    "\n",
    "Hotel_models.sort_values(by = 'Model Score', ascending = False)"
   ]
  },
  {
   "cell_type": "markdown",
   "metadata": {
    "colab_type": "text",
    "id": "UFogmgYZIKTE"
   },
   "source": [
    "> #### Task:\n",
    "- **Submit the predictions on the test dataset using your optimized model** <br/>\n",
    "    For each record in the test set (`test.csv`), predict the value of the `yearly_availability` variable. Submit a CSV file with a header row and one row per test entry.\n",
    "\n",
    "The file (`submissions.csv`) should have exactly 2 columns:\n",
    "   - **id**\n",
    "   - **yearly_availability**"
   ]
  },
  {
   "cell_type": "code",
   "execution_count": 57,
   "metadata": {},
   "outputs": [],
   "source": [
    "# Combining prediction resultsfrom XGBoost with IDs\n",
    "Hotelpred_list = list(Hotel_xgb.predict(Hotel_test_data_fin))\n",
    "#Creating Column Hotel_pred_id based on the model built\n",
    "Hotel_pred_id = list(Hotel_test_data['id'])\n",
    "#Final Creation of df\n",
    "Hotel_df = pd.DataFrame(list(zip(Hotelpred_list,Hotel_pred_id )), columns = ['id','yearly_availability'])"
   ]
  },
  {
   "cell_type": "code",
   "execution_count": 58,
   "metadata": {
    "colab": {},
    "colab_type": "code",
    "id": "nBRVPrYbIKTQ"
   },
   "outputs": [],
   "source": [
    "#Submitting the results\n",
    "Hotel_df.to_csv('submissions.csv',index=False)"
   ]
  },
  {
   "cell_type": "markdown",
   "metadata": {
    "colab_type": "text",
    "id": "H_pB8zTcIKTW"
   },
   "source": [
    "---"
   ]
  }
 ],
 "metadata": {
  "colab": {
   "collapsed_sections": [],
   "name": "Questions.ipynb",
   "provenance": [],
   "version": "0.3.2"
  },
  "kernelspec": {
   "display_name": "Python 3 (ipykernel)",
   "language": "python",
   "name": "python3"
  },
  "language_info": {
   "codemirror_mode": {
    "name": "ipython",
    "version": 3
   },
   "file_extension": ".py",
   "mimetype": "text/x-python",
   "name": "python",
   "nbconvert_exporter": "python",
   "pygments_lexer": "ipython3",
   "version": "3.9.7"
  },
  "toc": {
   "base_numbering": 1,
   "nav_menu": {},
   "number_sections": true,
   "sideBar": true,
   "skip_h1_title": false,
   "title_cell": "Table of Contents",
   "title_sidebar": "Contents",
   "toc_cell": false,
   "toc_position": {},
   "toc_section_display": true,
   "toc_window_display": false
  }
 },
 "nbformat": 4,
 "nbformat_minor": 4
}
